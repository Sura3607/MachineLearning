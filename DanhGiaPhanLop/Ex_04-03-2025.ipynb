{
 "cells": [
  {
   "cell_type": "code",
   "execution_count": 2,
   "metadata": {},
   "outputs": [],
   "source": [
    "import joblib                as jlb\n",
    "import matplotlib.pyplot     as plt\n",
    "import numpy                 as np\n",
    "import pandas                as pd\n",
    "import seaborn               as sbn\n",
    "\n",
    "from comet_ml                import ConfusionMatrix\n",
    "from sklearn                 import metrics , svm\n",
    "from sklearn.metrics         import accuracy_score, confusion_matrix\n",
    "from sklearn.metrics         import auc,roc_curve\n",
    "from sklearn.metrics         import precision_score, recall_score, f1_score\n",
    "from sklearn.pipeline        import Pipeline\n",
    "from sklearn.model_selection import train_test_split, KFold, cross_val_score\n",
    "from sklearn.neighbors       import KNeighborsClassifier\n",
    "from sklearn.tree            import DecisionTreeClassifier\n",
    "from sklearn.naive_bayes     import GaussianNB, BernoulliNB, MultinomialNB\n",
    "from sklearn.model_selection import GridSearchCV"
   ]
  },
  {
   "cell_type": "markdown",
   "metadata": {},
   "source": [
    "---\n",
    "## Xử lí dữ liệu\n",
    "---"
   ]
  },
  {
   "cell_type": "code",
   "execution_count": 3,
   "metadata": {},
   "outputs": [
    {
     "name": "stderr",
     "output_type": "stream",
     "text": [
      "<>:1: SyntaxWarning: invalid escape sequence '\\C'\n",
      "<>:1: SyntaxWarning: invalid escape sequence '\\C'\n",
      "C:\\Users\\ASUS\\AppData\\Local\\Temp\\ipykernel_16524\\2723665035.py:1: SyntaxWarning: invalid escape sequence '\\C'\n",
      "  df = pd.read_csv('D:\\Code_learning\\MachineLearning\\Data\\Social_Network_Ads.csv')\n"
     ]
    },
    {
     "data": {
      "application/vnd.microsoft.datawrangler.viewer.v0+json": {
       "columns": [
        {
         "name": "index",
         "rawType": "int64",
         "type": "integer"
        },
        {
         "name": "User ID",
         "rawType": "int64",
         "type": "integer"
        },
        {
         "name": "Gender",
         "rawType": "object",
         "type": "string"
        },
        {
         "name": "Age",
         "rawType": "int64",
         "type": "integer"
        },
        {
         "name": "EstimatedSalary",
         "rawType": "int64",
         "type": "integer"
        },
        {
         "name": "EstimatedSalary_K",
         "rawType": "int64",
         "type": "integer"
        },
        {
         "name": "Purchased",
         "rawType": "int64",
         "type": "integer"
        }
       ],
       "conversionMethod": "pd.DataFrame",
       "ref": "5269e1d3-4b9d-462a-850f-84ee313ac084",
       "rows": [
        [
         "0",
         "15624510",
         "Male",
         "19",
         "19000",
         "19",
         "0"
        ],
        [
         "1",
         "15810944",
         "Male",
         "35",
         "20000",
         "20",
         "0"
        ],
        [
         "2",
         "15668575",
         "Female",
         "26",
         "43000",
         "43",
         "0"
        ],
        [
         "3",
         "15603246",
         "Female",
         "27",
         "57000",
         "57",
         "0"
        ],
        [
         "4",
         "15804002",
         "Male",
         "19",
         "76000",
         "76",
         "0"
        ],
        [
         "5",
         "15728773",
         "Male",
         "27",
         "58000",
         "58",
         "0"
        ],
        [
         "6",
         "15598044",
         "Female",
         "27",
         "84000",
         "84",
         "0"
        ],
        [
         "7",
         "15694829",
         "Female",
         "32",
         "150000",
         "150",
         "1"
        ],
        [
         "8",
         "15600575",
         "Male",
         "25",
         "33000",
         "33",
         "0"
        ],
        [
         "9",
         "15727311",
         "Female",
         "35",
         "65000",
         "65",
         "0"
        ],
        [
         "10",
         "15570769",
         "Female",
         "26",
         "80000",
         "80",
         "0"
        ],
        [
         "11",
         "15606274",
         "Female",
         "26",
         "52000",
         "52",
         "0"
        ],
        [
         "12",
         "15746139",
         "Male",
         "20",
         "86000",
         "86",
         "0"
        ],
        [
         "13",
         "15704987",
         "Male",
         "32",
         "18000",
         "18",
         "0"
        ],
        [
         "14",
         "15628972",
         "Male",
         "18",
         "82000",
         "82",
         "0"
        ],
        [
         "15",
         "15697686",
         "Male",
         "29",
         "80000",
         "80",
         "0"
        ],
        [
         "16",
         "15733883",
         "Male",
         "47",
         "25000",
         "25",
         "1"
        ],
        [
         "17",
         "15617482",
         "Male",
         "45",
         "26000",
         "26",
         "1"
        ],
        [
         "18",
         "15704583",
         "Male",
         "46",
         "28000",
         "28",
         "1"
        ],
        [
         "19",
         "15621083",
         "Female",
         "48",
         "29000",
         "29",
         "1"
        ],
        [
         "20",
         "15649487",
         "Male",
         "45",
         "22000",
         "22",
         "1"
        ],
        [
         "21",
         "15736760",
         "Female",
         "47",
         "49000",
         "49",
         "1"
        ],
        [
         "22",
         "15714658",
         "Male",
         "48",
         "41000",
         "41",
         "1"
        ],
        [
         "23",
         "15599081",
         "Female",
         "45",
         "22000",
         "22",
         "1"
        ],
        [
         "24",
         "15705113",
         "Male",
         "46",
         "23000",
         "23",
         "1"
        ],
        [
         "25",
         "15631159",
         "Male",
         "47",
         "20000",
         "20",
         "1"
        ],
        [
         "26",
         "15792818",
         "Male",
         "49",
         "28000",
         "28",
         "1"
        ],
        [
         "27",
         "15633531",
         "Female",
         "47",
         "30000",
         "30",
         "1"
        ],
        [
         "28",
         "15744529",
         "Male",
         "29",
         "43000",
         "43",
         "0"
        ],
        [
         "29",
         "15669656",
         "Male",
         "31",
         "18000",
         "18",
         "0"
        ],
        [
         "30",
         "15581198",
         "Male",
         "31",
         "74000",
         "74",
         "0"
        ],
        [
         "31",
         "15729054",
         "Female",
         "27",
         "137000",
         "137",
         "1"
        ],
        [
         "32",
         "15573452",
         "Female",
         "21",
         "16000",
         "16",
         "0"
        ],
        [
         "33",
         "15776733",
         "Female",
         "28",
         "44000",
         "44",
         "0"
        ],
        [
         "34",
         "15724858",
         "Male",
         "27",
         "90000",
         "90",
         "0"
        ],
        [
         "35",
         "15713144",
         "Male",
         "35",
         "27000",
         "27",
         "0"
        ],
        [
         "36",
         "15690188",
         "Female",
         "33",
         "28000",
         "28",
         "0"
        ],
        [
         "37",
         "15689425",
         "Male",
         "30",
         "49000",
         "49",
         "0"
        ],
        [
         "38",
         "15671766",
         "Female",
         "26",
         "72000",
         "72",
         "0"
        ],
        [
         "39",
         "15782806",
         "Female",
         "27",
         "31000",
         "31",
         "0"
        ],
        [
         "40",
         "15764419",
         "Female",
         "27",
         "17000",
         "17",
         "0"
        ],
        [
         "41",
         "15591915",
         "Female",
         "33",
         "51000",
         "51",
         "0"
        ],
        [
         "42",
         "15772798",
         "Male",
         "35",
         "108000",
         "108",
         "0"
        ],
        [
         "43",
         "15792008",
         "Male",
         "30",
         "15000",
         "15",
         "0"
        ],
        [
         "44",
         "15715541",
         "Female",
         "28",
         "84000",
         "84",
         "0"
        ],
        [
         "45",
         "15639277",
         "Male",
         "23",
         "20000",
         "20",
         "0"
        ],
        [
         "46",
         "15798850",
         "Male",
         "25",
         "79000",
         "79",
         "0"
        ],
        [
         "47",
         "15776348",
         "Female",
         "27",
         "54000",
         "54",
         "0"
        ],
        [
         "48",
         "15727696",
         "Male",
         "30",
         "135000",
         "135",
         "1"
        ],
        [
         "49",
         "15793813",
         "Female",
         "31",
         "89000",
         "89",
         "0"
        ]
       ],
       "shape": {
        "columns": 6,
        "rows": 400
       }
      },
      "text/html": [
       "<div>\n",
       "<style scoped>\n",
       "    .dataframe tbody tr th:only-of-type {\n",
       "        vertical-align: middle;\n",
       "    }\n",
       "\n",
       "    .dataframe tbody tr th {\n",
       "        vertical-align: top;\n",
       "    }\n",
       "\n",
       "    .dataframe thead th {\n",
       "        text-align: right;\n",
       "    }\n",
       "</style>\n",
       "<table border=\"1\" class=\"dataframe\">\n",
       "  <thead>\n",
       "    <tr style=\"text-align: right;\">\n",
       "      <th></th>\n",
       "      <th>User ID</th>\n",
       "      <th>Gender</th>\n",
       "      <th>Age</th>\n",
       "      <th>EstimatedSalary</th>\n",
       "      <th>EstimatedSalary_K</th>\n",
       "      <th>Purchased</th>\n",
       "    </tr>\n",
       "  </thead>\n",
       "  <tbody>\n",
       "    <tr>\n",
       "      <th>0</th>\n",
       "      <td>15624510</td>\n",
       "      <td>Male</td>\n",
       "      <td>19</td>\n",
       "      <td>19000</td>\n",
       "      <td>19</td>\n",
       "      <td>0</td>\n",
       "    </tr>\n",
       "    <tr>\n",
       "      <th>1</th>\n",
       "      <td>15810944</td>\n",
       "      <td>Male</td>\n",
       "      <td>35</td>\n",
       "      <td>20000</td>\n",
       "      <td>20</td>\n",
       "      <td>0</td>\n",
       "    </tr>\n",
       "    <tr>\n",
       "      <th>2</th>\n",
       "      <td>15668575</td>\n",
       "      <td>Female</td>\n",
       "      <td>26</td>\n",
       "      <td>43000</td>\n",
       "      <td>43</td>\n",
       "      <td>0</td>\n",
       "    </tr>\n",
       "    <tr>\n",
       "      <th>3</th>\n",
       "      <td>15603246</td>\n",
       "      <td>Female</td>\n",
       "      <td>27</td>\n",
       "      <td>57000</td>\n",
       "      <td>57</td>\n",
       "      <td>0</td>\n",
       "    </tr>\n",
       "    <tr>\n",
       "      <th>4</th>\n",
       "      <td>15804002</td>\n",
       "      <td>Male</td>\n",
       "      <td>19</td>\n",
       "      <td>76000</td>\n",
       "      <td>76</td>\n",
       "      <td>0</td>\n",
       "    </tr>\n",
       "    <tr>\n",
       "      <th>...</th>\n",
       "      <td>...</td>\n",
       "      <td>...</td>\n",
       "      <td>...</td>\n",
       "      <td>...</td>\n",
       "      <td>...</td>\n",
       "      <td>...</td>\n",
       "    </tr>\n",
       "    <tr>\n",
       "      <th>395</th>\n",
       "      <td>15691863</td>\n",
       "      <td>Female</td>\n",
       "      <td>46</td>\n",
       "      <td>41000</td>\n",
       "      <td>41</td>\n",
       "      <td>1</td>\n",
       "    </tr>\n",
       "    <tr>\n",
       "      <th>396</th>\n",
       "      <td>15706071</td>\n",
       "      <td>Male</td>\n",
       "      <td>51</td>\n",
       "      <td>23000</td>\n",
       "      <td>23</td>\n",
       "      <td>1</td>\n",
       "    </tr>\n",
       "    <tr>\n",
       "      <th>397</th>\n",
       "      <td>15654296</td>\n",
       "      <td>Female</td>\n",
       "      <td>50</td>\n",
       "      <td>20000</td>\n",
       "      <td>20</td>\n",
       "      <td>1</td>\n",
       "    </tr>\n",
       "    <tr>\n",
       "      <th>398</th>\n",
       "      <td>15755018</td>\n",
       "      <td>Male</td>\n",
       "      <td>36</td>\n",
       "      <td>33000</td>\n",
       "      <td>33</td>\n",
       "      <td>0</td>\n",
       "    </tr>\n",
       "    <tr>\n",
       "      <th>399</th>\n",
       "      <td>15594041</td>\n",
       "      <td>Female</td>\n",
       "      <td>49</td>\n",
       "      <td>36000</td>\n",
       "      <td>36</td>\n",
       "      <td>1</td>\n",
       "    </tr>\n",
       "  </tbody>\n",
       "</table>\n",
       "<p>400 rows × 6 columns</p>\n",
       "</div>"
      ],
      "text/plain": [
       "      User ID  Gender  Age  EstimatedSalary  EstimatedSalary_K  Purchased\n",
       "0    15624510    Male   19            19000                 19          0\n",
       "1    15810944    Male   35            20000                 20          0\n",
       "2    15668575  Female   26            43000                 43          0\n",
       "3    15603246  Female   27            57000                 57          0\n",
       "4    15804002    Male   19            76000                 76          0\n",
       "..        ...     ...  ...              ...                ...        ...\n",
       "395  15691863  Female   46            41000                 41          1\n",
       "396  15706071    Male   51            23000                 23          1\n",
       "397  15654296  Female   50            20000                 20          1\n",
       "398  15755018    Male   36            33000                 33          0\n",
       "399  15594041  Female   49            36000                 36          1\n",
       "\n",
       "[400 rows x 6 columns]"
      ]
     },
     "execution_count": 3,
     "metadata": {},
     "output_type": "execute_result"
    }
   ],
   "source": [
    "df = pd.read_csv('D:\\Code_learning\\MachineLearning\\Data\\Social_Network_Ads.csv')\n",
    "df"
   ]
  },
  {
   "cell_type": "code",
   "execution_count": 4,
   "metadata": {},
   "outputs": [
    {
     "name": "stdout",
     "output_type": "stream",
     "text": [
      "   Gender  Age  EstimatedSalary\n",
      "0    Male   19            19000\n",
      "1    Male   35            20000\n",
      "2  Female   26            43000\n",
      "3  Female   27            57000\n",
      "4    Male   19            76000\n",
      "0    0\n",
      "1    0\n",
      "2    0\n",
      "3    0\n",
      "4    0\n",
      "Name: Purchased, dtype: int64\n"
     ]
    }
   ],
   "source": [
    "## Các features: Gender, Age, EstimatedSalary\n",
    "X = df.drop(['User ID', 'EstimatedSalary_K', 'Purchased'], axis = 1)\n",
    "print(X.head())\n",
    "## Biến target: Purchased\n",
    "y = df.Purchased\n",
    "print(y.head())"
   ]
  },
  {
   "cell_type": "code",
   "execution_count": 5,
   "metadata": {},
   "outputs": [
    {
     "name": "stdout",
     "output_type": "stream",
     "text": [
      "   Age  EstimatedSalary  Male\n",
      "0   19            19000     1\n",
      "1   35            20000     1\n",
      "2   26            43000     0\n",
      "3   27            57000     0\n",
      "4   19            76000     1\n"
     ]
    }
   ],
   "source": [
    "## Chuyển Gender thành kiểu Numerical\n",
    "sex = {'Male':1, 'Female':0}\n",
    "X['Male'] = [sex[i] for i in df.Gender]\n",
    "X  = X.drop(['Gender'], axis = 1)\n",
    "print(X.head())"
   ]
  },
  {
   "cell_type": "code",
   "execution_count": 16,
   "metadata": {},
   "outputs": [
    {
     "data": {
      "image/png": "[encoded data removed]",
      "text/plain": [
       "<Figure size 640x480 with 1 Axes>"
      ]
     },
     "metadata": {},
     "output_type": "display_data"
    }
   ],
   "source": [
    "plt.scatter(X.Age,X.EstimatedSalary)\n",
    "plt.xlabel('Age')\n",
    "plt.ylabel('EstimatedSalary')\n",
    "plt.show()"
   ]
  },
  {
   "cell_type": "code",
   "execution_count": 6,
   "metadata": {},
   "outputs": [],
   "source": [
    "## Chia tập dữ liệu thành training, test sets theo tỷ lệ 80:20\n",
    "X_train, X_test, y_train, y_test = train_test_split(X, y, test_size = .2, random_state = 1)"
   ]
  },
  {
   "cell_type": "code",
   "execution_count": 7,
   "metadata": {},
   "outputs": [],
   "source": [
    "#Áp dụng K-fold\n",
    "cv = KFold(n_splits = 10, shuffle = True)\n",
    "# train,test\n"
   ]
  },
  {
   "cell_type": "markdown",
   "metadata": {},
   "source": [
    "---\n",
    "## Hàm tính các chỉ sốsố\n",
    "---"
   ]
  },
  {
   "cell_type": "code",
   "execution_count": 7,
   "metadata": {},
   "outputs": [],
   "source": [
    "def classification_eval(y_test, y_pred):\n",
    "    accuracy  = accuracy_score(y_test, y_pred)\n",
    "    precision = precision_score(y_test, y_pred)\n",
    "    recall    = recall_score(y_test, y_pred)\n",
    "    f1        = f1_score(y_test, y_pred)\n",
    "    return accuracy, precision, recall, f1"
   ]
  },
  {
   "cell_type": "markdown",
   "metadata": {},
   "source": [
    "---\n",
    "## KNN\n",
    "---"
   ]
  },
  {
   "cell_type": "code",
   "execution_count": 8,
   "metadata": {},
   "outputs": [
    {
     "name": "stdout",
     "output_type": "stream",
     "text": [
      "[2, 3, 4, 5, 6, 7, 8, 9]\n"
     ]
    }
   ],
   "source": [
    "#tìm các K có thểthể\n",
    "list_k   = []\n",
    "\n",
    "for k in range(2, int(pow(X_train.shape[0], 1/2) / 2) + 2):\n",
    "    list_k.append(k)\n",
    "print(list_k)"
   ]
  },
  {
   "cell_type": "code",
   "execution_count": 9,
   "metadata": {},
   "outputs": [
    {
     "name": "stdout",
     "output_type": "stream",
     "text": [
      "{'metric': 'euclidean', 'n_neighbors': 6, 'weights': 'uniform'}\n"
     ]
    }
   ],
   "source": [
    "#Dùng grid sreach\n",
    "knn = KNeighborsClassifier()\n",
    "param_grid = {\n",
    "    'n_neighbors': list_k,  \n",
    "    'weights': ['uniform', 'distance'],\n",
    "    'metric': ['euclidean', 'manhattan']\n",
    "}\n",
    "\n",
    "grid_search = GridSearchCV(knn, param_grid, cv=10)\n",
    "grid_search.fit(X_train, y_train)\n",
    "\n",
    "# Lấy tham số tốt nhất và mô hình tốt nhất\n",
    "best_params = grid_search.best_params_\n",
    "best_model = grid_search.best_estimator_\n",
    "\n",
    "print(best_params)"
   ]
  },
  {
   "cell_type": "code",
   "execution_count": 10,
   "metadata": {},
   "outputs": [
    {
     "data": {
      "text/plain": [
       "['D:\\\\Code_learning\\\\MachineLearning\\\\DanhGiaPhanLop\\\\models\\\\knn_model.pkl']"
      ]
     },
     "execution_count": 10,
     "metadata": {},
     "output_type": "execute_result"
    }
   ],
   "source": [
    "knn = KNeighborsClassifier(n_neighbors = 6, metric = 'euclidean', weights = 'uniform')\n",
    "knn.fit(X_train, y_train)\n",
    "jlb.dump(knn, r'D:\\Code_learning\\MachineLearning\\DanhGiaPhanLop\\models\\knn_model.pkl')"
   ]
  },
  {
   "cell_type": "markdown",
   "metadata": {},
   "source": [
    "---\n",
    "## DecisionTreeClassifier\n",
    "---"
   ]
  },
  {
   "cell_type": "code",
   "execution_count": 11,
   "metadata": {},
   "outputs": [
    {
     "name": "stdout",
     "output_type": "stream",
     "text": [
      "{'class_weight': None, 'criterion': 'gini', 'max_depth': None, 'max_features': None, 'min_samples_leaf': 1, 'min_samples_split': 10, 'splitter': 'random'}\n"
     ]
    }
   ],
   "source": [
    "dt = DecisionTreeClassifier()\n",
    "\n",
    "param_grid = {\n",
    "    'criterion': ['gini', 'entropy'],\n",
    "    'splitter': ['best', 'random'],\n",
    "    'max_depth': [None, 5, 10, 20],\n",
    "    'min_samples_split': [2, 5, 10],\n",
    "    'min_samples_leaf': [1, 2, 5],\n",
    "    'max_features': [None, 'sqrt', 'log2'],\n",
    "    'class_weight': [None, 'balanced']\n",
    "}\n",
    "\n",
    "grid_search = GridSearchCV(dt, param_grid, cv=10)\n",
    "grid_search.fit(X_train, y_train)\n",
    "\n",
    "# Lấy tham số tốt nhất và mô hình tốt nhất\n",
    "best_params = grid_search.best_params_\n",
    "best_model = grid_search.best_estimator_\n",
    "\n",
    "print(best_params)"
   ]
  },
  {
   "cell_type": "code",
   "execution_count": 12,
   "metadata": {},
   "outputs": [
    {
     "data": {
      "text/plain": [
       "['D:\\\\Code_learning\\\\MachineLearning\\\\DanhGiaPhanLop\\\\models\\\\dt_model.mdl']"
      ]
     },
     "execution_count": 12,
     "metadata": {},
     "output_type": "execute_result"
    }
   ],
   "source": [
    "dt = DecisionTreeClassifier(class_weight = None, criterion = 'gini', max_depth = 20, max_features = 'sqrt', min_samples_leaf = 5, min_samples_split = 10, splitter = 'best')\n",
    "dt.fit(X_train, y_train)\n",
    "jlb.dump(dt, r'D:\\Code_learning\\MachineLearning\\DanhGiaPhanLop\\models\\dt_model.mdl')"
   ]
  },
  {
   "cell_type": "markdown",
   "metadata": {},
   "source": [
    "---\n",
    "## SVM\n",
    "---"
   ]
  },
  {
   "cell_type": "code",
   "execution_count": 14,
   "metadata": {},
   "outputs": [
    {
     "ename": "",
     "evalue": "",
     "output_type": "error",
     "traceback": [
      "\u001b[1;31mCannot execute code, session has been disposed. Please try restarting the Kernel."
     ]
    },
    {
     "ename": "",
     "evalue": "",
     "output_type": "error",
     "traceback": [
      "\u001b[1;31mCannot execute code, session has been disposed. Please try restarting the Kernel. \n",
      "\u001b[1;31mView Jupyter <a href='command:jupyter.viewOutput'>log</a> for further details."
     ]
    }
   ],
   "source": [
    "list_parameters = ['linear', 'poly', 'rbf', 'sigmoid']\n",
    "list_mean_accuracy = []\n",
    "\n",
    "for i in list_parameters:\n",
    "    svm_model = svm.SVC(kernel = i)\n",
    "    accuracies = cross_val_score(svm_model, X_train, y_train, cv = cv, scoring='accuracy')\n",
    "    mean_accuracy = accuracies.mean()\n",
    "    list_mean_accuracy.append(mean_accuracy)\n",
    "    print(f'type = {i:d} --> accuracy ~ {mean_accuracy * 100:.1f}%')"
   ]
  },
  {
   "cell_type": "code",
   "execution_count": null,
   "metadata": {},
   "outputs": [],
   "source": [
    "svm_model = svm.SVC(kernel = 'linear')\n",
    "svm_model.fit(X_train, y_train)"
   ]
  },
  {
   "cell_type": "markdown",
   "metadata": {},
   "source": [
    "---\n",
    "## Naive Bayes\n",
    "---"
   ]
  },
  {
   "cell_type": "code",
   "execution_count": null,
   "metadata": {},
   "outputs": [],
   "source": [
    "nbGaussian = GaussianNB()\n",
    "nbGaussian.fit(X_train, y_train)\n",
    "jlb.dump(nbGaussian, r'D:\\Code_learning\\MachineLearning\\DanhGiaPhanLop\\models\\nbGaussian_model.pkl')"
   ]
  },
  {
   "cell_type": "code",
   "execution_count": null,
   "metadata": {},
   "outputs": [],
   "source": [
    "nbMultinomial = MultinomialNB()\n",
    "nbMultinomial.fit(X_train, y_train)\n",
    "jlb.dump(nbMultinomial, r'D:\\Code_learning\\MachineLearning\\DanhGiaPhanLop\\models\\nbMultinomial_model.pkl')"
   ]
  },
  {
   "cell_type": "markdown",
   "metadata": {},
   "source": [
    "---\n",
    "## SS Model\n",
    "---"
   ]
  },
  {
   "cell_type": "code",
   "execution_count": 11,
   "metadata": {},
   "outputs": [
    {
     "name": "stdout",
     "output_type": "stream",
     "text": [
      "KNN: Mean Accuracy = 82.2%\n",
      "Decision Tree: Mean Accuracy = 88.8%\n",
      "GaussianNB: Mean Accuracy = 89.7%\n",
      "MultinomialNB: Mean Accuracy = 65.9%\n"
     ]
    }
   ],
   "source": [
    "models = {\n",
    "    'KNN': KNeighborsClassifier(n_neighbors = 6, metric = 'euclidean', weights = 'uniform'),\n",
    "    'Decision Tree': DecisionTreeClassifier(class_weight = None, criterion = 'gini', max_depth = 20, max_features = 'sqrt', min_samples_leaf = 5, min_samples_split = 10, splitter = 'best'),\n",
    "    'GaussianNB': GaussianNB(),\n",
    "    'MultinomialNB': MultinomialNB(),\n",
    "}\n",
    "\n",
    "list_models = []\n",
    "list_mean_acc = []\n",
    "\n",
    "for name, model in models.items():\n",
    "    scores = cross_val_score(model, X_train, y_train, cv=cv, scoring='accuracy')\n",
    "    list_models.append(name)\n",
    "    list_mean_acc.append(np.mean(scores))\n",
    "    print(f\"{name}: Mean Accuracy = {np.mean(scores)*100:.1f}%\")"
   ]
  },
  {
   "cell_type": "code",
   "execution_count": 14,
   "metadata": {},
   "outputs": [
    {
     "data": {
      "image/png": "[encoded data removed]",
      "text/plain": [
       "<Figure size 640x480 with 1 Axes>"
      ]
     },
     "metadata": {},
     "output_type": "display_data"
    }
   ],
   "source": [
    "## Biểu diễn trực quan dữ liệu phân tích giá trị k\n",
    "plt.plot(list_models, list_mean_acc)\n",
    "plt.xlabel('Mô hình')\n",
    "plt.ylabel('Độ chính xác (accuracy)')\n",
    "plt.show()"
   ]
  }
 ],
 "metadata": {
  "kernelspec": {
   "display_name": "Python 3",
   "language": "python",
   "name": "python3"
  },
  "language_info": {
   "codemirror_mode": {
    "name": "ipython",
    "version": 3
   },
   "file_extension": ".py",
   "mimetype": "text/x-python",
   "name": "python",
   "nbconvert_exporter": "python",
   "pygments_lexer": "ipython3",
   "version": "3.12.4"
  }
 },
 "nbformat": 4,
 "nbformat_minor": 2
}
